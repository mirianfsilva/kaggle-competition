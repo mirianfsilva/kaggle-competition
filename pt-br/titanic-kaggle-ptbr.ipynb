{
 "cells": [
  {
   "cell_type": "markdown",
   "metadata": {
    "colab_type": "text",
    "id": "view-in-github"
   },
   "source": [
    "<a href=\"https://colab.research.google.com/github/mirianfsilva/titanic-kaggle-competition/blob/master/pt-br/titanic-ptbr.ipynb\" target=\"_parent\"><img src=\"https://colab.research.google.com/assets/colab-badge.svg\" alt=\"Open In Colab\"/></a>"
   ]
  },
  {
   "cell_type": "markdown",
   "metadata": {
    "id": "_pLMFNAsoWyK"
   },
   "source": [
    "## Introdução a Machine Learning em uma Competição do Kaggle: Titanic\n",
    "\n",
    "<img src=\"https://github.com/mirianfsilva/titanic-kaggle-competition/blob/master/en-us/images/titanic.jpg?raw=true\" width=\"800\" style=\"float:left\"/>"
   ]
  },
  {
   "cell_type": "markdown",
   "metadata": {
    "id": "xmcmcgHfoWyO"
   },
   "source": [
    "## 📌 Tarefa 1: Introdução ao Kaggle\n",
    "    Criando sua conta no Kaggle e se inscrevendo na competição\n",
    "---\n",
    "- Crie sua conta no Kaggle e participe da competição em: [**Titanic: Machine Learning from Disaster**](https://www.kaggle.com/c/titanic).\n",
    "- Leia a descrição e as informações sobre a competição. \n",
    "- Faça download do dataset que será usado nesse projeto, que se encontra na página da competição. \n",
    "\n",
    "Vamos das inicio ao projeto!!! "
   ]
  },
  {
   "cell_type": "markdown",
   "metadata": {
    "id": "W8DyDuDtoWyO"
   },
   "source": [
    "## 📌 Tarefa 2: Análise Exploratória dos Dados (Exploratory Data Analysis - EDA)\n",
    "\n",
    "\n",
    "Importe as bibliotecas que inicialmente serão utilizadas"
   ]
  },
  {
   "cell_type": "code",
   "execution_count": null,
   "metadata": {
    "colab": {
     "base_uri": "https://localhost:8080/"
    },
    "id": "nk0ULoRloWyP",
    "outputId": "a07c144a-2e0f-44b2-9cf8-0512ae085a4f"
   },
   "outputs": [],
   "source": [
    "#necessary installations\n",
    "#python +3, pandas, pandas profiling\n",
    "%matplotlib inline\n",
    "! pip install https://github.com/pandas-profiling/pandas-profiling/archive/master.zip"
   ]
  },
  {
   "cell_type": "code",
   "execution_count": null,
   "metadata": {
    "id": "chtbl4O-oWyP"
   },
   "outputs": [],
   "source": [
    "import numpy as np # linear algebra\n",
    "import pandas as pd # data processing, CSV file I/O (e.g. pd.read_csv) \n",
    "import matplotlib.pyplot as plt #plot our graphics and visualize our data\n",
    "import seaborn as sns #plot beautiful graphics :)\n",
    "import pandas_profiling as pp #pandas profiling analyse our entire dataset and facilate our work in a EDA\n",
    "import warnings\n",
    "warnings.filterwarnings('ignore')"
   ]
  },
  {
   "cell_type": "markdown",
   "metadata": {
    "id": "9euPsuoyoWyQ"
   },
   "source": [
    "### Importe o conjunto de dados\n",
    "---"
   ]
  },
  {
   "cell_type": "code",
   "execution_count": null,
   "metadata": {
    "id": "9Y2_h4aFoWyQ"
   },
   "outputs": [],
   "source": []
  },
  {
   "cell_type": "code",
   "execution_count": null,
   "metadata": {
    "colab": {
     "base_uri": "https://localhost:8080/",
     "height": 197
    },
    "id": "A-0uB3ZqoWyQ",
    "outputId": "b13d8e4c-ed7a-48e2-e835-ff13a07c5b6d"
   },
   "outputs": [],
   "source": []
  },
  {
   "cell_type": "code",
   "execution_count": null,
   "metadata": {
    "colab": {
     "base_uri": "https://localhost:8080/",
     "height": 197
    },
    "id": "PNP8tjH7oWyQ",
    "outputId": "c5902c78-fb14-424f-a517-57376397f015"
   },
   "outputs": [],
   "source": []
  },
  {
   "cell_type": "code",
   "execution_count": null,
   "metadata": {
    "colab": {
     "base_uri": "https://localhost:8080/"
    },
    "id": "MX-EVLQSqvwj",
    "outputId": "f1a5db24-91e5-4042-a29c-51a0943b67af"
   },
   "outputs": [],
   "source": [
    "print('Numbero dos dados de Treino = {}'.format(train_data.shape[0]))\r\n",
    "print('Numbero dos dados de Teste = {}\\n'.format(test_data.shape[0]))\r\n",
    "\r\n",
    "#target columns\r\n",
    "train_data.columns"
   ]
  },
  {
   "cell_type": "markdown",
   "metadata": {
    "id": "3SDh2IMboWyR"
   },
   "source": [
    "### Visualização dos Dados\n",
    "---\n"
   ]
  },
  {
   "cell_type": "code",
   "execution_count": null,
   "metadata": {
    "colab": {
     "base_uri": "https://localhost:8080/",
     "height": 917,
     "referenced_widgets": [
      "02bc78c0675340419182b8eb6e95973d",
      "709f84e70e794c9f8242027092fbab5c",
      "a81f221cc22c473189837ecf68aab78f",
      "3e3651c93cc0450ea635ff175e7e1468",
      "a59a672013dc47da847c0f08761520e1",
      "79a085f03e6d443b82fa03f1534643a4",
      "b66095faccb84ef0953bdea77490488b",
      "d5d72ef60a9e4f94b01c354fd01a16d9",
      "ab14eb8cb24a44b7a9644a6ae3f6b068",
      "421b918236ff41eabb8992451def6a76",
      "3b08c0e96d9b469eb8b72a9e20de156c",
      "7deecf89097b4ad7b21f8ef157db260f",
      "2a93ea8c99e1426d9541d38c22584652",
      "1c8ead11fdde4e2cb963dd6026cfe366",
      "56e1ffd2dc4b4c608d36179507c87a1a",
      "ee9a8bab2d1c472d8fa48e5f244cb981",
      "aaa203db93d547788ae58e5fc134fc45",
      "b08682ce8bcb4ed5a3c1f956fe9033f3",
      "be458af1bfda4e489f70cd3620c2e898",
      "63c4a83ceb7a441aabfeceb3cd27a8d1",
      "fe258eeb80794b32bd02dc0ab0c5407c",
      "db19e16568884254996f5a4f49086496",
      "593846229c04460ca300e974977dd496",
      "b61e45dc2c5b43ca94d68006c5bd2b09",
      "900996510c50405ba33c1a97b0800520",
      "ebe38d8c528a45e8a89eb67b7ffc717d",
      "9de2e45a33164bf7bc2a5244f5111b26",
      "864fc6b9600143578ddea0a7d5ef54a6",
      "e957f5f8ccf64f8382d8569cfde5cd42",
      "cecf95b39cef43fbae079849db6b14c3",
      "d2ade4ba16604b95a9efc5d30aaf1c51",
      "0a76162e032047358746091689972437",
      "1daaddedc958499c9f386ce0c4375395"
     ]
    },
    "id": "GLu9BAPUoWyR",
    "outputId": "3072467a-0168-4728-b8e4-27b04a6c2418"
   },
   "outputs": [],
   "source": [
    "#Pandas Profiling Report"
   ]
  },
  {
   "cell_type": "markdown",
   "metadata": {
    "id": "pGwZzOfBoWyS"
   },
   "source": [
    "**Nota sobre as variáveis**\n",
    "\n",
    "_pclass_: Classe socioeconômica/Status dos passageiros.\n",
    "- _1st_ = Upper\n",
    "- _2nd_ = Middle\n",
    "- _3rd_ = Lower\n",
    "\n",
    "_age_: Idade\n",
    "\n",
    "_sibsp_: Tipo familiar\n",
    "- _Sibling_ = irmão, irmã\n",
    "- _Spouse_ = marido, esposa\n",
    "\n",
    "_parch_: O conjunto de dados define os relacionamento familiares da forma:\n",
    "- _Parent_ = mother, father\n",
    "- _Child_ = daughter, son, stepdaughter, stepson"
   ]
  },
  {
   "cell_type": "markdown",
   "metadata": {
    "id": "9288kSOboWyS"
   },
   "source": [
    "**Exporte seu relatório**"
   ]
  },
  {
   "cell_type": "code",
   "execution_count": null,
   "metadata": {
    "colab": {
     "base_uri": "https://localhost:8080/",
     "height": 48,
     "referenced_widgets": [
      "9cd7b5e920ba4be9a4f1744d13ccbfc5",
      "1facb12974974d4dbf3f8831cfff194f",
      "9c0f1b638e5146d1a46f64990af2500a",
      "7436c71ace614bc0b50cea6befb44ec2",
      "29d8b14a58d4480c8b1a6cb6fc8466eb",
      "382561f48326427cb7e34d16a0746ea0",
      "934d61d336fc41d5865a367bb235172e",
      "82afd3af1f324e7f9691b53733dbe763",
      "dab6d5d56b02421898c88c3a7796f121",
      "7cc1b4f554ff4d7cb56316ed4a6283fc",
      "4d6c283ed6bb4c66bf759769d8a59190"
     ]
    },
    "id": "m8aLY5WAoWyS",
    "outputId": "1408e50a-d6b6-4970-be80-54dabfc447a2"
   },
   "outputs": [],
   "source": [
    "# O comando a seguir irá exportar seu relatório em um arquivo html\n"
   ]
  },
  {
   "cell_type": "markdown",
   "metadata": {
    "id": "q1qimatYoWyS"
   },
   "source": [
    "## 📌 Tarefa 3: Pré-processamento I\n",
    "    Analisando Dados Faltantes\n",
    "---\n",
    "\n",
    "**Important:** Dados Faltantes/Omissos são dados que literalmente estão em falta no conjunto de dados e podem ser importantes para o resultado da análise. Trabalhar com um dataset com dados faltantes é um problema de grande relevância na área de Análise de Dados e esse problema pode ser originado devido a inúmeras causas e fontes, como falhas no sistema de coleda dos dados, integração com diferentes fontes ao criar o dataset, etc., o ponto é que devemos tomar cuidado para evitar viés no resulta do que buscamos, devido a essa lacuna de dados."
   ]
  },
  {
   "cell_type": "code",
   "execution_count": null,
   "metadata": {
    "colab": {
     "base_uri": "https://localhost:8080/",
     "height": 377
    },
    "id": "bEQp3g8LoWyT",
    "outputId": "f31a0591-d1e5-47e6-a15b-d63e15068fa7"
   },
   "outputs": [],
   "source": [
    "'''\n",
    "Descriptive statistics include those that summarize the central tendency, \n",
    "dispersion and shape of a dataset’s distribution, excluding NaN values.\n",
    "'''\n",
    "train_data.describe(include=\"all\")"
   ]
  },
  {
   "cell_type": "markdown",
   "metadata": {
    "id": "Ku3t4y_ioWyT"
   },
   "source": [
    "Depois de visualizar todo o nosso conjunto de dados, **verifique a descrição acima ou a amostra dos dados em nosso relatório de dataframe**, você verá que existem certos pontos de dados rotulados com um `NaN`. Isso denota valores ausentes. Conjuntos de dados diferentes codificam valores ausentes de maneiras diferentes. Às vezes pode ser `9999`, outras vezes` 0` - porque os dados do mundo real podem ser muito confusos!\n",
    "\n",
    "**O objetivo aqui é descobrir a melhor forma de processar os dados para que nosso modelo de aprendizado de máquina possa aprender com eles.**"
   ]
  },
  {
   "cell_type": "markdown",
   "metadata": {
    "id": "qLxN7uNVoWyT"
   },
   "source": [
    "### Pré processamento\n",
    "---\n",
    "\n",
    "\n"
   ]
  },
  {
   "cell_type": "markdown",
   "metadata": {
    "id": "kjxnnVYQoWyU"
   },
   "source": [
    "**Observe os valores numéricos e categóricos separadamente:**\n",
    "\n",
    "Características numéricas: Idade, tarifa, SibSp, Parch.\n",
    "Características categóricas: sobrevivido, sexo, embarcado, Pclass.\n",
    "Características alfanuméricas (mas categóricas): Ingresso, Cabine.\n",
    "\n",
    "Pela visão geral do relatório, clique na tab \"Warnings\" para ver mais:\n",
    "\n",
    "- Ingressos e Cabine são características com alta cardinalidade e muitos valores diferenciados.\n",
    "- Idade e cabine tem muitos valores ausentes.\n",
    "- Nome e ID possuem valores únicos.\n",
    "- SibSp, Parch e Fare tem muitos zeros."
   ]
  },
  {
   "cell_type": "code",
   "execution_count": null,
   "metadata": {
    "colab": {
     "base_uri": "https://localhost:8080/",
     "height": 197
    },
    "id": "I-4x1Bu2oWyU",
    "outputId": "71692650-0868-49fd-9084-6a8dca0ba6d8"
   },
   "outputs": [],
   "source": []
  },
  {
   "cell_type": "markdown",
   "metadata": {
    "id": "paymepexoWyU"
   },
   "source": [
    "**Quantas pessoas sobreviveram?**"
   ]
  },
  {
   "cell_type": "code",
   "execution_count": null,
   "metadata": {
    "colab": {
     "base_uri": "https://localhost:8080/",
     "height": 185
    },
    "id": "PaH1SQM9oWyU",
    "outputId": "684b2b8e-d7a5-4d3c-b60c-902ad79466d0"
   },
   "outputs": [],
   "source": []
  },
  {
   "cell_type": "markdown",
   "metadata": {
    "id": "OGovevkMoWyV"
   },
   "source": [
    "--- \n",
    "**Feature Nome**"
   ]
  },
  {
   "cell_type": "code",
   "execution_count": null,
   "metadata": {
    "id": "qOz10P9DoWyV"
   },
   "outputs": [],
   "source": []
  },
  {
   "cell_type": "markdown",
   "metadata": {
    "id": "OfULGnEWoWyV"
   },
   "source": [
    "---\n",
    "**Feature Idade**"
   ]
  },
  {
   "cell_type": "code",
   "execution_count": null,
   "metadata": {
    "colab": {
     "base_uri": "https://localhost:8080/",
     "height": 346
    },
    "id": "sjroJsSBoWyV",
    "outputId": "a9532f48-8442-4163-9c70-5ee3a3906416"
   },
   "outputs": [],
   "source": []
  },
  {
   "cell_type": "code",
   "execution_count": null,
   "metadata": {
    "id": "gbtm3dW1oWyW"
   },
   "outputs": [],
   "source": []
  },
  {
   "cell_type": "markdown",
   "metadata": {
    "id": "z0u4UfnqoWyW"
   },
   "source": [
    "---\n",
    "**Feature Ticket**"
   ]
  },
  {
   "cell_type": "code",
   "execution_count": null,
   "metadata": {
    "id": "zLih5dFKoWyW"
   },
   "outputs": [],
   "source": [
    "#See plot inside our report. Tickets vs frequency"
   ]
  },
  {
   "cell_type": "code",
   "execution_count": null,
   "metadata": {
    "id": "_rUveeSXoWyW"
   },
   "outputs": [],
   "source": []
  },
  {
   "cell_type": "markdown",
   "metadata": {
    "id": "r71v_sHaoWyX"
   },
   "source": [
    "--- \n",
    "**Feature Cabine**"
   ]
  },
  {
   "cell_type": "code",
   "execution_count": null,
   "metadata": {
    "id": "4gKyWSDAoWyX"
   },
   "outputs": [],
   "source": [
    "#See plot inside our report. Cabin vs frequency of distribution"
   ]
  },
  {
   "cell_type": "code",
   "execution_count": null,
   "metadata": {
    "id": "LsA_CZOvoWyX"
   },
   "outputs": [],
   "source": []
  },
  {
   "cell_type": "markdown",
   "metadata": {
    "id": "gyJUu-gsoWyX"
   },
   "source": [
    "## 📌 Tarefa 4: Pré-processamento II\n",
    "    Analisando Dados Faltantes\n",
    "---\n",
    "**Feature Embarque**"
   ]
  },
  {
   "cell_type": "code",
   "execution_count": null,
   "metadata": {
    "colab": {
     "base_uri": "https://localhost:8080/",
     "height": 278
    },
    "id": "rqzRJiXFoWyY",
    "outputId": "e41bf03b-0dbe-476c-fa59-f9c2ba165224"
   },
   "outputs": [],
   "source": []
  },
  {
   "cell_type": "code",
   "execution_count": null,
   "metadata": {
    "colab": {
     "base_uri": "https://localhost:8080/",
     "height": 53
    },
    "id": "RIzlsbeBoWyY",
    "outputId": "773b460b-f6eb-4321-c54a-d421c5d5d7f2"
   },
   "outputs": [],
   "source": []
  },
  {
   "cell_type": "markdown",
   "metadata": {
    "id": "L9xQ0erloWyY"
   },
   "source": [
    "---\n",
    "**Feature Sexo**"
   ]
  },
  {
   "cell_type": "code",
   "execution_count": null,
   "metadata": {
    "colab": {
     "base_uri": "https://localhost:8080/",
     "height": 168
    },
    "id": "G5_vRbV_oWyY",
    "outputId": "1b211ea9-8e6d-4338-dd82-bf8fc951ebb3"
   },
   "outputs": [],
   "source": []
  },
  {
   "cell_type": "code",
   "execution_count": null,
   "metadata": {
    "colab": {
     "base_uri": "https://localhost:8080/",
     "height": 401
    },
    "id": "YuSLBel9oWyY",
    "outputId": "2f24e3c3-f154-4104-c47b-7b603ddb0f02"
   },
   "outputs": [],
   "source": []
  },
  {
   "cell_type": "code",
   "execution_count": null,
   "metadata": {
    "colab": {
     "base_uri": "https://localhost:8080/",
     "height": 197
    },
    "id": "aGdH1GBMoWyZ",
    "outputId": "e96e06a2-323a-4340-cf65-945f7bacbc42"
   },
   "outputs": [],
   "source": []
  },
  {
   "cell_type": "markdown",
   "metadata": {
    "id": "4_DhdI2AoWyZ"
   },
   "source": [
    "## 📌 Tarefa 5:  Pré-processamento III\n",
    "    Codificando Dados Categóricos\n",
    "---"
   ]
  },
  {
   "cell_type": "markdown",
   "metadata": {
    "id": "oLOvbj-foWya"
   },
   "source": [
    "### Codificando Features\n",
    "\n",
    "Documentação Pandas get dummies: [pandas.get_dummies](https://pandas.pydata.org/pandas-docs/stable/reference/api/pandas.get_dummies.html)\n",
    "\n",
    "**Conjunto de dados de Treino**"
   ]
  },
  {
   "cell_type": "code",
   "execution_count": null,
   "metadata": {
    "colab": {
     "base_uri": "https://localhost:8080/",
     "height": 217
    },
    "id": "I967vplqoWya",
    "outputId": "d9419d59-617b-4519-cbb0-7a705c3ab42d"
   },
   "outputs": [],
   "source": []
  },
  {
   "cell_type": "code",
   "execution_count": null,
   "metadata": {
    "colab": {
     "base_uri": "https://localhost:8080/",
     "height": 197
    },
    "id": "VLHBU8HxoWya",
    "outputId": "f1e912b4-bfbc-44b4-e60e-e0c4ff5599e0"
   },
   "outputs": [],
   "source": []
  },
  {
   "cell_type": "markdown",
   "metadata": {
    "id": "XrDwnbXtoWya"
   },
   "source": [
    "---\n",
    "**Conjunto de Dados de Teste**"
   ]
  },
  {
   "cell_type": "code",
   "execution_count": null,
   "metadata": {
    "colab": {
     "base_uri": "https://localhost:8080/",
     "height": 197
    },
    "id": "MKF3w45hoWyb",
    "outputId": "2b58481e-129d-4d3a-9844-a1e796ff7201"
   },
   "outputs": [],
   "source": []
  },
  {
   "cell_type": "code",
   "execution_count": null,
   "metadata": {
    "colab": {
     "base_uri": "https://localhost:8080/",
     "height": 197
    },
    "id": "YrBIs0wCoWyb",
    "outputId": "11d76ff8-5f8e-4d53-e732-e6493ebf8761"
   },
   "outputs": [],
   "source": []
  },
  {
   "cell_type": "markdown",
   "metadata": {
    "id": "yZAmGvCeoWyb"
   },
   "source": [
    "## 📌 Tarefa 6: Dividindo os conjuntos de dados em treinamento e teste\n",
    "---\n",
    "\n",
    "Dividir o conjunto de dados em treinamento e teste é muito comum, e você fará isso em inúmeras ocasiões. Mesmo que neste problema atual, tenhamos nosso treinamento e teste em arquivos csvs separadamente, usaremos essa técnica em nosso conjunto de dados de treinamento, para que você possa se acostumar com esse procedimento."
   ]
  },
  {
   "cell_type": "markdown",
   "metadata": {
    "id": "eY-567ohoWyc"
   },
   "source": [
    "**train_test_split**: O primeiro argumento será o `feature data`, o segundo o` target or labels`. O argumento `test_size` especifica qual proporção dos dados originais é usada para o conjunto de teste. Por último, o kward `random_state` define uma semente para o gerador de números aleatórios que divide os dados em treino e teste.\n",
    "\n",
    "Dividindo os dados de treinamento, usaremos parte de nossos dados de treinamento (30% neste caso) para testar a precisão de nossos diferentes modelos."
   ]
  },
  {
   "cell_type": "code",
   "execution_count": null,
   "metadata": {
    "id": "f6ZtqHMioWyc"
   },
   "outputs": [],
   "source": []
  },
  {
   "cell_type": "code",
   "execution_count": null,
   "metadata": {
    "colab": {
     "base_uri": "https://localhost:8080/"
    },
    "id": "ycAnpem_oWyd",
    "outputId": "5c7908e8-786b-46cc-a867-9d2ab1259369"
   },
   "outputs": [],
   "source": []
  },
  {
   "cell_type": "code",
   "execution_count": null,
   "metadata": {
    "colab": {
     "base_uri": "https://localhost:8080/"
    },
    "id": "N5l0TS2loWye",
    "outputId": "58070cd0-ca3d-4022-c29a-22bc5a3d6f05"
   },
   "outputs": [],
   "source": []
  },
  {
   "cell_type": "markdown",
   "metadata": {
    "id": "K3d8vQxZoWye"
   },
   "source": [
    "## 📌 Tarefa 7: Construindo nossos modelos de aprendizado de máquina\n",
    "---\n"
   ]
  },
  {
   "cell_type": "markdown",
   "metadata": {
    "id": "pgOBi7HsoWye"
   },
   "source": [
    "**Logistic Regression**\n",
    "\n",
    "A regressão logística é uma técnica estatística que tem como objetivo produzir, a partir de um conjunto de observações, um modelo que permita a predição de valores tomados por uma variável categórica, frequentemente binária, a partir de uma série de variáveis explicativas contínuas e/ou binárias. Trata-se de um modelo de regressão para variáveis dependentes ou de resposta binomialmente distribuídas. É útil para modelar a probabilidade de um evento ocorrer como função de outros factores, como o problema do Titanic desse projeto. É um modelo linear generalizado que usa como função de ligação a função logit.\n",
    "\n",
    "Reference: [Wikipedia](https://en.wikipedia.org/wiki/Logistic_regression)"
   ]
  },
  {
   "cell_type": "code",
   "execution_count": null,
   "metadata": {
    "colab": {
     "base_uri": "https://localhost:8080/"
    },
    "id": "q5cBwnx9oWyf",
    "outputId": "f5d4cfb2-a26d-463e-f17a-e70de8cb4a9c"
   },
   "outputs": [],
   "source": []
  },
  {
   "cell_type": "markdown",
   "metadata": {
    "id": "xBuBIOyxoWyf"
   },
   "source": [
    "**Decision Tree**\n",
    "\n",
    "O aprendizado da árvore de decisão é uma das abordagens de modelagem preditiva usadas em estatística, mineração de dados e aprendizado de máquina. Ele usa uma árvore de decisão (como um modelo preditivo) para ir de observações sobre um item (representado nos ramos) para conclusões sobre o valor alvo - target - do item (representado nas folhas). Os modelos de árvore em que a variável de destino pode assumir um conjunto discreto de valores são chamados de árvores de classificação; nessas estruturas de árvore, as folhas representam rótulos de classe e os ramos representam conjunções de features que levam a esses rótulos de classe. As árvores de decisão nas quais a variável de destino pode assumir valores contínuos (normalmente números reais) são chamadas de árvores de regressão. As árvores de decisão estão entre os algoritmos de aprendizado de máquina mais populares devido à sua inteligibilidade e simplicidade. \n",
    "\n",
    "Reference: [Wikipedia](https://en.wikipedia.org/wiki/Decision_tree_learning)"
   ]
  },
  {
   "cell_type": "code",
   "execution_count": null,
   "metadata": {
    "colab": {
     "base_uri": "https://localhost:8080/"
    },
    "id": "o8tnQIIWoWyf",
    "outputId": "899a7029-96cb-4241-ab05-e14a5bc07393"
   },
   "outputs": [],
   "source": []
  },
  {
   "cell_type": "markdown",
   "metadata": {
    "id": "DbuixgtSoWyg"
   },
   "source": [
    "### Modelos Adicionais\n",
    "---\n",
    "\n",
    "Se você quiser testar outros modelos e comparar seu desempenho com os dois que já usamos. Abaixo você encontra esses modelos já declarados. \n",
    "Sinta-se à vontade para testá-los também, execute para ver os resultados."
   ]
  },
  {
   "cell_type": "code",
   "execution_count": null,
   "metadata": {
    "colab": {
     "base_uri": "https://localhost:8080/"
    },
    "id": "WZ-n-r9FoWyg",
    "outputId": "e80bf8da-79c2-4757-f5be-1f4fa258f1ae"
   },
   "outputs": [],
   "source": [
    "#Random Forest\n",
    "from sklearn.ensemble import RandomForestClassifier\n",
    "\n",
    "rf = RandomForestClassifier()\n",
    "rf.fit(X_train, y_train)\n",
    "y_pred = rf.predict(X_val)\n",
    "acc_rf = round(accuracy_score(y_pred, y_val) * 100, 2)\n",
    "print(\"Random Forest Accuracy\",acc_rf)\n",
    "\n",
    "\n",
    "#KNN | K-Nearest Neighbors\n",
    "from sklearn.neighbors import KNeighborsClassifier\n",
    "\n",
    "knn = KNeighborsClassifier()\n",
    "knn.fit(X_train, y_train)\n",
    "y_pred = knn.predict(X_val)\n",
    "acc_knn = round(accuracy_score(y_pred, y_val) * 100, 2)\n",
    "print(\"K-Nearest Neighbors Accuracy\",acc_knn)\n",
    "\n",
    "\n",
    "# Support Vector Machine\n",
    "from sklearn.svm import SVC\n",
    "\n",
    "svc = SVC()\n",
    "svc.fit(X_train, y_train)\n",
    "y_pred = svc.predict(X_val)\n",
    "acc_svc = round(accuracy_score(y_pred, y_val) * 100, 2)\n",
    "print(\"Support Vector Machine\", acc_svc)"
   ]
  },
  {
   "cell_type": "markdown",
   "metadata": {
    "id": "Bz9gG5NKoWyg"
   },
   "source": [
    "## 📌 Tarefa 8: Realizando a submissão do projeto no Kaggle\n",
    "---\n",
    "\n",
    "Agora que você avaliou a perfomance do seu modelo, vamos criar um arquivo csv para a submissão na competição do Kaggle!"
   ]
  },
  {
   "cell_type": "code",
   "execution_count": null,
   "metadata": {
    "colab": {
     "base_uri": "https://localhost:8080/",
     "height": 197
    },
    "id": "eINE8BLioWyg",
    "outputId": "cf9862f4-a2b9-4d13-a245-5a2e37f032b6"
   },
   "outputs": [],
   "source": []
  },
  {
   "cell_type": "code",
   "execution_count": null,
   "metadata": {
    "colab": {
     "base_uri": "https://localhost:8080/"
    },
    "id": "dhYP04A1oWyg",
    "outputId": "c5d700e9-0175-4da0-f351-1b5f01895bd5"
   },
   "outputs": [],
   "source": []
  },
  {
   "cell_type": "code",
   "execution_count": null,
   "metadata": {
    "colab": {
     "base_uri": "https://localhost:8080/"
    },
    "id": "2WrAiAbMoWyh",
    "outputId": "b885fa45-a837-46bb-b123-768af50b5599"
   },
   "outputs": [],
   "source": []
  },
  {
   "cell_type": "code",
   "execution_count": null,
   "metadata": {
    "colab": {
     "base_uri": "https://localhost:8080/"
    },
    "id": "4Y_imgDboWyh",
    "outputId": "a24fa212-6616-409f-db60-49f972c640bc"
   },
   "outputs": [],
   "source": []
  },
  {
   "cell_type": "markdown",
   "metadata": {
    "id": "nqRA0kCpoWyh"
   },
   "source": [
    "Predição Final e Geração do Arquivo de Submissão no Kaggle"
   ]
  },
  {
   "cell_type": "code",
   "execution_count": null,
   "metadata": {
    "colab": {
     "base_uri": "https://localhost:8080/",
     "height": 406
    },
    "id": "uJq-Pn63oWyh",
    "outputId": "74e3883c-1f8c-4455-d930-4e7e58b6d8c5"
   },
   "outputs": [],
   "source": []
  },
  {
   "cell_type": "code",
   "execution_count": null,
   "metadata": {
    "colab": {
     "base_uri": "https://localhost:8080/",
     "height": 197
    },
    "id": "VmzaUKi6oWyh",
    "outputId": "5b293141-132e-4447-822a-3159e64fa300"
   },
   "outputs": [],
   "source": []
  },
  {
   "cell_type": "code",
   "execution_count": null,
   "metadata": {
    "id": "LSoOVpyeoWyh"
   },
   "outputs": [],
   "source": []
  },
  {
   "cell_type": "markdown",
   "metadata": {
    "id": "worGnpT7oWyi"
   },
   "source": [
    "### Dicas e Materiais de Estudo Recomendados: \n",
    "\n",
    "- [Seaborn: Statistical Data Visualization](https://seaborn.pydata.org/index.html)\n",
    "\n",
    "- Recomendação que pode ser interessante, caso queira ver uma análise diferente dos mesmos dados do Titanic: [Titanic - A Data Science Approach](https://www.kaggle.com/pedrodematos/titanic-a-complete-data-science-approach)\n",
    "\n",
    "- O notebook completo desse curso, você encontra na conta do github da instrutora. Se você desejar realizar melhorias, sinta-se a vontade para compartilhar pelo github. \n",
    "[Project on Github](https://github.com/mirianfsilva/titanic-kaggle-competition)\n",
    "\n",
    "- Continue praticando no Kaggle! \n",
    "\n",
    "- Esse é um projeto prático, mas é importante que você também melhore seu background teorico em aprendizagem de máquina, entendendo como cada modelo funciona por trás do código. Então recomento esse curso do Coursera da Universidade de Stanford, que definitivamente é um excelente começo para quem é iniciante, e é um bom complemento para suas práticas: [Machine Learning by Stanford University](https://www.coursera.org/learn/machine-learning)"
   ]
  }
 ],
 "metadata": {
  "colab": {
   "include_colab_link": true,
   "name": "titanic-ptbr.ipynb",
   "provenance": []
  },
  "kernelspec": {
   "display_name": "Python 3",
   "language": "python",
   "name": "python3"
  },
  "language_info": {
   "codemirror_mode": {
    "name": "ipython",
    "version": 3
   },
   "file_extension": ".py",
   "mimetype": "text/x-python",
   "name": "python",
   "nbconvert_exporter": "python",
   "pygments_lexer": "ipython3",
   "version": "3.7.3"
  },
  "widgets": {
   "application/vnd.jupyter.widget-state+json": {
    "02bc78c0675340419182b8eb6e95973d": {
     "model_module": "@jupyter-widgets/controls",
     "model_name": "HBoxModel",
     "state": {
      "_dom_classes": [],
      "_model_module": "@jupyter-widgets/controls",
      "_model_module_version": "1.5.0",
      "_model_name": "HBoxModel",
      "_view_count": null,
      "_view_module": "@jupyter-widgets/controls",
      "_view_module_version": "1.5.0",
      "_view_name": "HBoxView",
      "box_style": "",
      "children": [
       "IPY_MODEL_a81f221cc22c473189837ecf68aab78f",
       "IPY_MODEL_3e3651c93cc0450ea635ff175e7e1468",
       "IPY_MODEL_a59a672013dc47da847c0f08761520e1"
      ],
      "layout": "IPY_MODEL_709f84e70e794c9f8242027092fbab5c"
     }
    },
    "0a76162e032047358746091689972437": {
     "model_module": "@jupyter-widgets/controls",
     "model_name": "DescriptionStyleModel",
     "state": {
      "_model_module": "@jupyter-widgets/controls",
      "_model_module_version": "1.5.0",
      "_model_name": "DescriptionStyleModel",
      "_view_count": null,
      "_view_module": "@jupyter-widgets/base",
      "_view_module_version": "1.2.0",
      "_view_name": "StyleView",
      "description_width": ""
     }
    },
    "1c8ead11fdde4e2cb963dd6026cfe366": {
     "model_module": "@jupyter-widgets/controls",
     "model_name": "HTMLModel",
     "state": {
      "_dom_classes": [],
      "_model_module": "@jupyter-widgets/controls",
      "_model_module_version": "1.5.0",
      "_model_name": "HTMLModel",
      "_view_count": null,
      "_view_module": "@jupyter-widgets/controls",
      "_view_module_version": "1.5.0",
      "_view_name": "HTMLView",
      "description": "",
      "description_tooltip": null,
      "layout": "IPY_MODEL_b08682ce8bcb4ed5a3c1f956fe9033f3",
      "placeholder": "​",
      "style": "IPY_MODEL_aaa203db93d547788ae58e5fc134fc45",
      "value": "Generate report structure: 100%"
     }
    },
    "1daaddedc958499c9f386ce0c4375395": {
     "model_module": "@jupyter-widgets/base",
     "model_name": "LayoutModel",
     "state": {
      "_model_module": "@jupyter-widgets/base",
      "_model_module_version": "1.2.0",
      "_model_name": "LayoutModel",
      "_view_count": null,
      "_view_module": "@jupyter-widgets/base",
      "_view_module_version": "1.2.0",
      "_view_name": "LayoutView",
      "align_content": null,
      "align_items": null,
      "align_self": null,
      "border": null,
      "bottom": null,
      "display": null,
      "flex": null,
      "flex_flow": null,
      "grid_area": null,
      "grid_auto_columns": null,
      "grid_auto_flow": null,
      "grid_auto_rows": null,
      "grid_column": null,
      "grid_gap": null,
      "grid_row": null,
      "grid_template_areas": null,
      "grid_template_columns": null,
      "grid_template_rows": null,
      "height": null,
      "justify_content": null,
      "justify_items": null,
      "left": null,
      "margin": null,
      "max_height": null,
      "max_width": null,
      "min_height": null,
      "min_width": null,
      "object_fit": null,
      "object_position": null,
      "order": null,
      "overflow": null,
      "overflow_x": null,
      "overflow_y": null,
      "padding": null,
      "right": null,
      "top": null,
      "visibility": null,
      "width": null
     }
    },
    "1facb12974974d4dbf3f8831cfff194f": {
     "model_module": "@jupyter-widgets/base",
     "model_name": "LayoutModel",
     "state": {
      "_model_module": "@jupyter-widgets/base",
      "_model_module_version": "1.2.0",
      "_model_name": "LayoutModel",
      "_view_count": null,
      "_view_module": "@jupyter-widgets/base",
      "_view_module_version": "1.2.0",
      "_view_name": "LayoutView",
      "align_content": null,
      "align_items": null,
      "align_self": null,
      "border": null,
      "bottom": null,
      "display": null,
      "flex": null,
      "flex_flow": null,
      "grid_area": null,
      "grid_auto_columns": null,
      "grid_auto_flow": null,
      "grid_auto_rows": null,
      "grid_column": null,
      "grid_gap": null,
      "grid_row": null,
      "grid_template_areas": null,
      "grid_template_columns": null,
      "grid_template_rows": null,
      "height": null,
      "justify_content": null,
      "justify_items": null,
      "left": null,
      "margin": null,
      "max_height": null,
      "max_width": null,
      "min_height": null,
      "min_width": null,
      "object_fit": null,
      "object_position": null,
      "order": null,
      "overflow": null,
      "overflow_x": null,
      "overflow_y": null,
      "padding": null,
      "right": null,
      "top": null,
      "visibility": null,
      "width": null
     }
    },
    "29d8b14a58d4480c8b1a6cb6fc8466eb": {
     "model_module": "@jupyter-widgets/controls",
     "model_name": "HTMLModel",
     "state": {
      "_dom_classes": [],
      "_model_module": "@jupyter-widgets/controls",
      "_model_module_version": "1.5.0",
      "_model_name": "HTMLModel",
      "_view_count": null,
      "_view_module": "@jupyter-widgets/controls",
      "_view_module_version": "1.5.0",
      "_view_name": "HTMLView",
      "description": "",
      "description_tooltip": null,
      "layout": "IPY_MODEL_4d6c283ed6bb4c66bf759769d8a59190",
      "placeholder": "​",
      "style": "IPY_MODEL_7cc1b4f554ff4d7cb56316ed4a6283fc",
      "value": " 1/1 [00:00&lt;00:00, 15.71it/s]"
     }
    },
    "2a93ea8c99e1426d9541d38c22584652": {
     "model_module": "@jupyter-widgets/base",
     "model_name": "LayoutModel",
     "state": {
      "_model_module": "@jupyter-widgets/base",
      "_model_module_version": "1.2.0",
      "_model_name": "LayoutModel",
      "_view_count": null,
      "_view_module": "@jupyter-widgets/base",
      "_view_module_version": "1.2.0",
      "_view_name": "LayoutView",
      "align_content": null,
      "align_items": null,
      "align_self": null,
      "border": null,
      "bottom": null,
      "display": null,
      "flex": null,
      "flex_flow": null,
      "grid_area": null,
      "grid_auto_columns": null,
      "grid_auto_flow": null,
      "grid_auto_rows": null,
      "grid_column": null,
      "grid_gap": null,
      "grid_row": null,
      "grid_template_areas": null,
      "grid_template_columns": null,
      "grid_template_rows": null,
      "height": null,
      "justify_content": null,
      "justify_items": null,
      "left": null,
      "margin": null,
      "max_height": null,
      "max_width": null,
      "min_height": null,
      "min_width": null,
      "object_fit": null,
      "object_position": null,
      "order": null,
      "overflow": null,
      "overflow_x": null,
      "overflow_y": null,
      "padding": null,
      "right": null,
      "top": null,
      "visibility": null,
      "width": null
     }
    },
    "382561f48326427cb7e34d16a0746ea0": {
     "model_module": "@jupyter-widgets/controls",
     "model_name": "DescriptionStyleModel",
     "state": {
      "_model_module": "@jupyter-widgets/controls",
      "_model_module_version": "1.5.0",
      "_model_name": "DescriptionStyleModel",
      "_view_count": null,
      "_view_module": "@jupyter-widgets/base",
      "_view_module_version": "1.2.0",
      "_view_name": "StyleView",
      "description_width": ""
     }
    },
    "3b08c0e96d9b469eb8b72a9e20de156c": {
     "model_module": "@jupyter-widgets/base",
     "model_name": "LayoutModel",
     "state": {
      "_model_module": "@jupyter-widgets/base",
      "_model_module_version": "1.2.0",
      "_model_name": "LayoutModel",
      "_view_count": null,
      "_view_module": "@jupyter-widgets/base",
      "_view_module_version": "1.2.0",
      "_view_name": "LayoutView",
      "align_content": null,
      "align_items": null,
      "align_self": null,
      "border": null,
      "bottom": null,
      "display": null,
      "flex": null,
      "flex_flow": null,
      "grid_area": null,
      "grid_auto_columns": null,
      "grid_auto_flow": null,
      "grid_auto_rows": null,
      "grid_column": null,
      "grid_gap": null,
      "grid_row": null,
      "grid_template_areas": null,
      "grid_template_columns": null,
      "grid_template_rows": null,
      "height": null,
      "justify_content": null,
      "justify_items": null,
      "left": null,
      "margin": null,
      "max_height": null,
      "max_width": null,
      "min_height": null,
      "min_width": null,
      "object_fit": null,
      "object_position": null,
      "order": null,
      "overflow": null,
      "overflow_x": null,
      "overflow_y": null,
      "padding": null,
      "right": null,
      "top": null,
      "visibility": null,
      "width": null
     }
    },
    "3e3651c93cc0450ea635ff175e7e1468": {
     "model_module": "@jupyter-widgets/controls",
     "model_name": "FloatProgressModel",
     "state": {
      "_dom_classes": [],
      "_model_module": "@jupyter-widgets/controls",
      "_model_module_version": "1.5.0",
      "_model_name": "FloatProgressModel",
      "_view_count": null,
      "_view_module": "@jupyter-widgets/controls",
      "_view_module_version": "1.5.0",
      "_view_name": "ProgressView",
      "bar_style": "success",
      "description": "",
      "description_tooltip": null,
      "layout": "IPY_MODEL_ab14eb8cb24a44b7a9644a6ae3f6b068",
      "max": 25,
      "min": 0,
      "orientation": "horizontal",
      "style": "IPY_MODEL_d5d72ef60a9e4f94b01c354fd01a16d9",
      "value": 25
     }
    },
    "421b918236ff41eabb8992451def6a76": {
     "model_module": "@jupyter-widgets/controls",
     "model_name": "DescriptionStyleModel",
     "state": {
      "_model_module": "@jupyter-widgets/controls",
      "_model_module_version": "1.5.0",
      "_model_name": "DescriptionStyleModel",
      "_view_count": null,
      "_view_module": "@jupyter-widgets/base",
      "_view_module_version": "1.2.0",
      "_view_name": "StyleView",
      "description_width": ""
     }
    },
    "4d6c283ed6bb4c66bf759769d8a59190": {
     "model_module": "@jupyter-widgets/base",
     "model_name": "LayoutModel",
     "state": {
      "_model_module": "@jupyter-widgets/base",
      "_model_module_version": "1.2.0",
      "_model_name": "LayoutModel",
      "_view_count": null,
      "_view_module": "@jupyter-widgets/base",
      "_view_module_version": "1.2.0",
      "_view_name": "LayoutView",
      "align_content": null,
      "align_items": null,
      "align_self": null,
      "border": null,
      "bottom": null,
      "display": null,
      "flex": null,
      "flex_flow": null,
      "grid_area": null,
      "grid_auto_columns": null,
      "grid_auto_flow": null,
      "grid_auto_rows": null,
      "grid_column": null,
      "grid_gap": null,
      "grid_row": null,
      "grid_template_areas": null,
      "grid_template_columns": null,
      "grid_template_rows": null,
      "height": null,
      "justify_content": null,
      "justify_items": null,
      "left": null,
      "margin": null,
      "max_height": null,
      "max_width": null,
      "min_height": null,
      "min_width": null,
      "object_fit": null,
      "object_position": null,
      "order": null,
      "overflow": null,
      "overflow_x": null,
      "overflow_y": null,
      "padding": null,
      "right": null,
      "top": null,
      "visibility": null,
      "width": null
     }
    },
    "56e1ffd2dc4b4c608d36179507c87a1a": {
     "model_module": "@jupyter-widgets/controls",
     "model_name": "FloatProgressModel",
     "state": {
      "_dom_classes": [],
      "_model_module": "@jupyter-widgets/controls",
      "_model_module_version": "1.5.0",
      "_model_name": "FloatProgressModel",
      "_view_count": null,
      "_view_module": "@jupyter-widgets/controls",
      "_view_module_version": "1.5.0",
      "_view_name": "ProgressView",
      "bar_style": "success",
      "description": "",
      "description_tooltip": null,
      "layout": "IPY_MODEL_63c4a83ceb7a441aabfeceb3cd27a8d1",
      "max": 1,
      "min": 0,
      "orientation": "horizontal",
      "style": "IPY_MODEL_be458af1bfda4e489f70cd3620c2e898",
      "value": 1
     }
    },
    "593846229c04460ca300e974977dd496": {
     "model_module": "@jupyter-widgets/controls",
     "model_name": "HBoxModel",
     "state": {
      "_dom_classes": [],
      "_model_module": "@jupyter-widgets/controls",
      "_model_module_version": "1.5.0",
      "_model_name": "HBoxModel",
      "_view_count": null,
      "_view_module": "@jupyter-widgets/controls",
      "_view_module_version": "1.5.0",
      "_view_name": "HBoxView",
      "box_style": "",
      "children": [
       "IPY_MODEL_900996510c50405ba33c1a97b0800520",
       "IPY_MODEL_ebe38d8c528a45e8a89eb67b7ffc717d",
       "IPY_MODEL_9de2e45a33164bf7bc2a5244f5111b26"
      ],
      "layout": "IPY_MODEL_b61e45dc2c5b43ca94d68006c5bd2b09"
     }
    },
    "63c4a83ceb7a441aabfeceb3cd27a8d1": {
     "model_module": "@jupyter-widgets/base",
     "model_name": "LayoutModel",
     "state": {
      "_model_module": "@jupyter-widgets/base",
      "_model_module_version": "1.2.0",
      "_model_name": "LayoutModel",
      "_view_count": null,
      "_view_module": "@jupyter-widgets/base",
      "_view_module_version": "1.2.0",
      "_view_name": "LayoutView",
      "align_content": null,
      "align_items": null,
      "align_self": null,
      "border": null,
      "bottom": null,
      "display": null,
      "flex": null,
      "flex_flow": null,
      "grid_area": null,
      "grid_auto_columns": null,
      "grid_auto_flow": null,
      "grid_auto_rows": null,
      "grid_column": null,
      "grid_gap": null,
      "grid_row": null,
      "grid_template_areas": null,
      "grid_template_columns": null,
      "grid_template_rows": null,
      "height": null,
      "justify_content": null,
      "justify_items": null,
      "left": null,
      "margin": null,
      "max_height": null,
      "max_width": null,
      "min_height": null,
      "min_width": null,
      "object_fit": null,
      "object_position": null,
      "order": null,
      "overflow": null,
      "overflow_x": null,
      "overflow_y": null,
      "padding": null,
      "right": null,
      "top": null,
      "visibility": null,
      "width": null
     }
    },
    "709f84e70e794c9f8242027092fbab5c": {
     "model_module": "@jupyter-widgets/base",
     "model_name": "LayoutModel",
     "state": {
      "_model_module": "@jupyter-widgets/base",
      "_model_module_version": "1.2.0",
      "_model_name": "LayoutModel",
      "_view_count": null,
      "_view_module": "@jupyter-widgets/base",
      "_view_module_version": "1.2.0",
      "_view_name": "LayoutView",
      "align_content": null,
      "align_items": null,
      "align_self": null,
      "border": null,
      "bottom": null,
      "display": null,
      "flex": null,
      "flex_flow": null,
      "grid_area": null,
      "grid_auto_columns": null,
      "grid_auto_flow": null,
      "grid_auto_rows": null,
      "grid_column": null,
      "grid_gap": null,
      "grid_row": null,
      "grid_template_areas": null,
      "grid_template_columns": null,
      "grid_template_rows": null,
      "height": null,
      "justify_content": null,
      "justify_items": null,
      "left": null,
      "margin": null,
      "max_height": null,
      "max_width": null,
      "min_height": null,
      "min_width": null,
      "object_fit": null,
      "object_position": null,
      "order": null,
      "overflow": null,
      "overflow_x": null,
      "overflow_y": null,
      "padding": null,
      "right": null,
      "top": null,
      "visibility": null,
      "width": null
     }
    },
    "7436c71ace614bc0b50cea6befb44ec2": {
     "model_module": "@jupyter-widgets/controls",
     "model_name": "FloatProgressModel",
     "state": {
      "_dom_classes": [],
      "_model_module": "@jupyter-widgets/controls",
      "_model_module_version": "1.5.0",
      "_model_name": "FloatProgressModel",
      "_view_count": null,
      "_view_module": "@jupyter-widgets/controls",
      "_view_module_version": "1.5.0",
      "_view_name": "ProgressView",
      "bar_style": "success",
      "description": "",
      "description_tooltip": null,
      "layout": "IPY_MODEL_dab6d5d56b02421898c88c3a7796f121",
      "max": 1,
      "min": 0,
      "orientation": "horizontal",
      "style": "IPY_MODEL_82afd3af1f324e7f9691b53733dbe763",
      "value": 1
     }
    },
    "79a085f03e6d443b82fa03f1534643a4": {
     "model_module": "@jupyter-widgets/controls",
     "model_name": "DescriptionStyleModel",
     "state": {
      "_model_module": "@jupyter-widgets/controls",
      "_model_module_version": "1.5.0",
      "_model_name": "DescriptionStyleModel",
      "_view_count": null,
      "_view_module": "@jupyter-widgets/base",
      "_view_module_version": "1.2.0",
      "_view_name": "StyleView",
      "description_width": ""
     }
    },
    "7cc1b4f554ff4d7cb56316ed4a6283fc": {
     "model_module": "@jupyter-widgets/controls",
     "model_name": "DescriptionStyleModel",
     "state": {
      "_model_module": "@jupyter-widgets/controls",
      "_model_module_version": "1.5.0",
      "_model_name": "DescriptionStyleModel",
      "_view_count": null,
      "_view_module": "@jupyter-widgets/base",
      "_view_module_version": "1.2.0",
      "_view_name": "StyleView",
      "description_width": ""
     }
    },
    "7deecf89097b4ad7b21f8ef157db260f": {
     "model_module": "@jupyter-widgets/controls",
     "model_name": "HBoxModel",
     "state": {
      "_dom_classes": [],
      "_model_module": "@jupyter-widgets/controls",
      "_model_module_version": "1.5.0",
      "_model_name": "HBoxModel",
      "_view_count": null,
      "_view_module": "@jupyter-widgets/controls",
      "_view_module_version": "1.5.0",
      "_view_name": "HBoxView",
      "box_style": "",
      "children": [
       "IPY_MODEL_1c8ead11fdde4e2cb963dd6026cfe366",
       "IPY_MODEL_56e1ffd2dc4b4c608d36179507c87a1a",
       "IPY_MODEL_ee9a8bab2d1c472d8fa48e5f244cb981"
      ],
      "layout": "IPY_MODEL_2a93ea8c99e1426d9541d38c22584652"
     }
    },
    "82afd3af1f324e7f9691b53733dbe763": {
     "model_module": "@jupyter-widgets/controls",
     "model_name": "ProgressStyleModel",
     "state": {
      "_model_module": "@jupyter-widgets/controls",
      "_model_module_version": "1.5.0",
      "_model_name": "ProgressStyleModel",
      "_view_count": null,
      "_view_module": "@jupyter-widgets/base",
      "_view_module_version": "1.2.0",
      "_view_name": "StyleView",
      "bar_color": null,
      "description_width": ""
     }
    },
    "864fc6b9600143578ddea0a7d5ef54a6": {
     "model_module": "@jupyter-widgets/controls",
     "model_name": "DescriptionStyleModel",
     "state": {
      "_model_module": "@jupyter-widgets/controls",
      "_model_module_version": "1.5.0",
      "_model_name": "DescriptionStyleModel",
      "_view_count": null,
      "_view_module": "@jupyter-widgets/base",
      "_view_module_version": "1.2.0",
      "_view_name": "StyleView",
      "description_width": ""
     }
    },
    "900996510c50405ba33c1a97b0800520": {
     "model_module": "@jupyter-widgets/controls",
     "model_name": "HTMLModel",
     "state": {
      "_dom_classes": [],
      "_model_module": "@jupyter-widgets/controls",
      "_model_module_version": "1.5.0",
      "_model_name": "HTMLModel",
      "_view_count": null,
      "_view_module": "@jupyter-widgets/controls",
      "_view_module_version": "1.5.0",
      "_view_name": "HTMLView",
      "description": "",
      "description_tooltip": null,
      "layout": "IPY_MODEL_e957f5f8ccf64f8382d8569cfde5cd42",
      "placeholder": "​",
      "style": "IPY_MODEL_864fc6b9600143578ddea0a7d5ef54a6",
      "value": "Render HTML: 100%"
     }
    },
    "934d61d336fc41d5865a367bb235172e": {
     "model_module": "@jupyter-widgets/base",
     "model_name": "LayoutModel",
     "state": {
      "_model_module": "@jupyter-widgets/base",
      "_model_module_version": "1.2.0",
      "_model_name": "LayoutModel",
      "_view_count": null,
      "_view_module": "@jupyter-widgets/base",
      "_view_module_version": "1.2.0",
      "_view_name": "LayoutView",
      "align_content": null,
      "align_items": null,
      "align_self": null,
      "border": null,
      "bottom": null,
      "display": null,
      "flex": null,
      "flex_flow": null,
      "grid_area": null,
      "grid_auto_columns": null,
      "grid_auto_flow": null,
      "grid_auto_rows": null,
      "grid_column": null,
      "grid_gap": null,
      "grid_row": null,
      "grid_template_areas": null,
      "grid_template_columns": null,
      "grid_template_rows": null,
      "height": null,
      "justify_content": null,
      "justify_items": null,
      "left": null,
      "margin": null,
      "max_height": null,
      "max_width": null,
      "min_height": null,
      "min_width": null,
      "object_fit": null,
      "object_position": null,
      "order": null,
      "overflow": null,
      "overflow_x": null,
      "overflow_y": null,
      "padding": null,
      "right": null,
      "top": null,
      "visibility": null,
      "width": null
     }
    },
    "9c0f1b638e5146d1a46f64990af2500a": {
     "model_module": "@jupyter-widgets/controls",
     "model_name": "HTMLModel",
     "state": {
      "_dom_classes": [],
      "_model_module": "@jupyter-widgets/controls",
      "_model_module_version": "1.5.0",
      "_model_name": "HTMLModel",
      "_view_count": null,
      "_view_module": "@jupyter-widgets/controls",
      "_view_module_version": "1.5.0",
      "_view_name": "HTMLView",
      "description": "",
      "description_tooltip": null,
      "layout": "IPY_MODEL_934d61d336fc41d5865a367bb235172e",
      "placeholder": "​",
      "style": "IPY_MODEL_382561f48326427cb7e34d16a0746ea0",
      "value": "Export report to file: 100%"
     }
    },
    "9cd7b5e920ba4be9a4f1744d13ccbfc5": {
     "model_module": "@jupyter-widgets/controls",
     "model_name": "HBoxModel",
     "state": {
      "_dom_classes": [],
      "_model_module": "@jupyter-widgets/controls",
      "_model_module_version": "1.5.0",
      "_model_name": "HBoxModel",
      "_view_count": null,
      "_view_module": "@jupyter-widgets/controls",
      "_view_module_version": "1.5.0",
      "_view_name": "HBoxView",
      "box_style": "",
      "children": [
       "IPY_MODEL_9c0f1b638e5146d1a46f64990af2500a",
       "IPY_MODEL_7436c71ace614bc0b50cea6befb44ec2",
       "IPY_MODEL_29d8b14a58d4480c8b1a6cb6fc8466eb"
      ],
      "layout": "IPY_MODEL_1facb12974974d4dbf3f8831cfff194f"
     }
    },
    "9de2e45a33164bf7bc2a5244f5111b26": {
     "model_module": "@jupyter-widgets/controls",
     "model_name": "HTMLModel",
     "state": {
      "_dom_classes": [],
      "_model_module": "@jupyter-widgets/controls",
      "_model_module_version": "1.5.0",
      "_model_name": "HTMLModel",
      "_view_count": null,
      "_view_module": "@jupyter-widgets/controls",
      "_view_module_version": "1.5.0",
      "_view_name": "HTMLView",
      "description": "",
      "description_tooltip": null,
      "layout": "IPY_MODEL_1daaddedc958499c9f386ce0c4375395",
      "placeholder": "​",
      "style": "IPY_MODEL_0a76162e032047358746091689972437",
      "value": " 1/1 [00:01&lt;00:00,  1.75s/it]"
     }
    },
    "a59a672013dc47da847c0f08761520e1": {
     "model_module": "@jupyter-widgets/controls",
     "model_name": "HTMLModel",
     "state": {
      "_dom_classes": [],
      "_model_module": "@jupyter-widgets/controls",
      "_model_module_version": "1.5.0",
      "_model_name": "HTMLModel",
      "_view_count": null,
      "_view_module": "@jupyter-widgets/controls",
      "_view_module_version": "1.5.0",
      "_view_name": "HTMLView",
      "description": "",
      "description_tooltip": null,
      "layout": "IPY_MODEL_3b08c0e96d9b469eb8b72a9e20de156c",
      "placeholder": "​",
      "style": "IPY_MODEL_421b918236ff41eabb8992451def6a76",
      "value": " 25/25 [00:08&lt;00:00,  1.63it/s, Completed]"
     }
    },
    "a81f221cc22c473189837ecf68aab78f": {
     "model_module": "@jupyter-widgets/controls",
     "model_name": "HTMLModel",
     "state": {
      "_dom_classes": [],
      "_model_module": "@jupyter-widgets/controls",
      "_model_module_version": "1.5.0",
      "_model_name": "HTMLModel",
      "_view_count": null,
      "_view_module": "@jupyter-widgets/controls",
      "_view_module_version": "1.5.0",
      "_view_name": "HTMLView",
      "description": "",
      "description_tooltip": null,
      "layout": "IPY_MODEL_b66095faccb84ef0953bdea77490488b",
      "placeholder": "​",
      "style": "IPY_MODEL_79a085f03e6d443b82fa03f1534643a4",
      "value": "Summarize dataset: 100%"
     }
    },
    "aaa203db93d547788ae58e5fc134fc45": {
     "model_module": "@jupyter-widgets/controls",
     "model_name": "DescriptionStyleModel",
     "state": {
      "_model_module": "@jupyter-widgets/controls",
      "_model_module_version": "1.5.0",
      "_model_name": "DescriptionStyleModel",
      "_view_count": null,
      "_view_module": "@jupyter-widgets/base",
      "_view_module_version": "1.2.0",
      "_view_name": "StyleView",
      "description_width": ""
     }
    },
    "ab14eb8cb24a44b7a9644a6ae3f6b068": {
     "model_module": "@jupyter-widgets/base",
     "model_name": "LayoutModel",
     "state": {
      "_model_module": "@jupyter-widgets/base",
      "_model_module_version": "1.2.0",
      "_model_name": "LayoutModel",
      "_view_count": null,
      "_view_module": "@jupyter-widgets/base",
      "_view_module_version": "1.2.0",
      "_view_name": "LayoutView",
      "align_content": null,
      "align_items": null,
      "align_self": null,
      "border": null,
      "bottom": null,
      "display": null,
      "flex": null,
      "flex_flow": null,
      "grid_area": null,
      "grid_auto_columns": null,
      "grid_auto_flow": null,
      "grid_auto_rows": null,
      "grid_column": null,
      "grid_gap": null,
      "grid_row": null,
      "grid_template_areas": null,
      "grid_template_columns": null,
      "grid_template_rows": null,
      "height": null,
      "justify_content": null,
      "justify_items": null,
      "left": null,
      "margin": null,
      "max_height": null,
      "max_width": null,
      "min_height": null,
      "min_width": null,
      "object_fit": null,
      "object_position": null,
      "order": null,
      "overflow": null,
      "overflow_x": null,
      "overflow_y": null,
      "padding": null,
      "right": null,
      "top": null,
      "visibility": null,
      "width": null
     }
    },
    "b08682ce8bcb4ed5a3c1f956fe9033f3": {
     "model_module": "@jupyter-widgets/base",
     "model_name": "LayoutModel",
     "state": {
      "_model_module": "@jupyter-widgets/base",
      "_model_module_version": "1.2.0",
      "_model_name": "LayoutModel",
      "_view_count": null,
      "_view_module": "@jupyter-widgets/base",
      "_view_module_version": "1.2.0",
      "_view_name": "LayoutView",
      "align_content": null,
      "align_items": null,
      "align_self": null,
      "border": null,
      "bottom": null,
      "display": null,
      "flex": null,
      "flex_flow": null,
      "grid_area": null,
      "grid_auto_columns": null,
      "grid_auto_flow": null,
      "grid_auto_rows": null,
      "grid_column": null,
      "grid_gap": null,
      "grid_row": null,
      "grid_template_areas": null,
      "grid_template_columns": null,
      "grid_template_rows": null,
      "height": null,
      "justify_content": null,
      "justify_items": null,
      "left": null,
      "margin": null,
      "max_height": null,
      "max_width": null,
      "min_height": null,
      "min_width": null,
      "object_fit": null,
      "object_position": null,
      "order": null,
      "overflow": null,
      "overflow_x": null,
      "overflow_y": null,
      "padding": null,
      "right": null,
      "top": null,
      "visibility": null,
      "width": null
     }
    },
    "b61e45dc2c5b43ca94d68006c5bd2b09": {
     "model_module": "@jupyter-widgets/base",
     "model_name": "LayoutModel",
     "state": {
      "_model_module": "@jupyter-widgets/base",
      "_model_module_version": "1.2.0",
      "_model_name": "LayoutModel",
      "_view_count": null,
      "_view_module": "@jupyter-widgets/base",
      "_view_module_version": "1.2.0",
      "_view_name": "LayoutView",
      "align_content": null,
      "align_items": null,
      "align_self": null,
      "border": null,
      "bottom": null,
      "display": null,
      "flex": null,
      "flex_flow": null,
      "grid_area": null,
      "grid_auto_columns": null,
      "grid_auto_flow": null,
      "grid_auto_rows": null,
      "grid_column": null,
      "grid_gap": null,
      "grid_row": null,
      "grid_template_areas": null,
      "grid_template_columns": null,
      "grid_template_rows": null,
      "height": null,
      "justify_content": null,
      "justify_items": null,
      "left": null,
      "margin": null,
      "max_height": null,
      "max_width": null,
      "min_height": null,
      "min_width": null,
      "object_fit": null,
      "object_position": null,
      "order": null,
      "overflow": null,
      "overflow_x": null,
      "overflow_y": null,
      "padding": null,
      "right": null,
      "top": null,
      "visibility": null,
      "width": null
     }
    },
    "b66095faccb84ef0953bdea77490488b": {
     "model_module": "@jupyter-widgets/base",
     "model_name": "LayoutModel",
     "state": {
      "_model_module": "@jupyter-widgets/base",
      "_model_module_version": "1.2.0",
      "_model_name": "LayoutModel",
      "_view_count": null,
      "_view_module": "@jupyter-widgets/base",
      "_view_module_version": "1.2.0",
      "_view_name": "LayoutView",
      "align_content": null,
      "align_items": null,
      "align_self": null,
      "border": null,
      "bottom": null,
      "display": null,
      "flex": null,
      "flex_flow": null,
      "grid_area": null,
      "grid_auto_columns": null,
      "grid_auto_flow": null,
      "grid_auto_rows": null,
      "grid_column": null,
      "grid_gap": null,
      "grid_row": null,
      "grid_template_areas": null,
      "grid_template_columns": null,
      "grid_template_rows": null,
      "height": null,
      "justify_content": null,
      "justify_items": null,
      "left": null,
      "margin": null,
      "max_height": null,
      "max_width": null,
      "min_height": null,
      "min_width": null,
      "object_fit": null,
      "object_position": null,
      "order": null,
      "overflow": null,
      "overflow_x": null,
      "overflow_y": null,
      "padding": null,
      "right": null,
      "top": null,
      "visibility": null,
      "width": null
     }
    },
    "be458af1bfda4e489f70cd3620c2e898": {
     "model_module": "@jupyter-widgets/controls",
     "model_name": "ProgressStyleModel",
     "state": {
      "_model_module": "@jupyter-widgets/controls",
      "_model_module_version": "1.5.0",
      "_model_name": "ProgressStyleModel",
      "_view_count": null,
      "_view_module": "@jupyter-widgets/base",
      "_view_module_version": "1.2.0",
      "_view_name": "StyleView",
      "bar_color": null,
      "description_width": ""
     }
    },
    "cecf95b39cef43fbae079849db6b14c3": {
     "model_module": "@jupyter-widgets/controls",
     "model_name": "ProgressStyleModel",
     "state": {
      "_model_module": "@jupyter-widgets/controls",
      "_model_module_version": "1.5.0",
      "_model_name": "ProgressStyleModel",
      "_view_count": null,
      "_view_module": "@jupyter-widgets/base",
      "_view_module_version": "1.2.0",
      "_view_name": "StyleView",
      "bar_color": null,
      "description_width": ""
     }
    },
    "d2ade4ba16604b95a9efc5d30aaf1c51": {
     "model_module": "@jupyter-widgets/base",
     "model_name": "LayoutModel",
     "state": {
      "_model_module": "@jupyter-widgets/base",
      "_model_module_version": "1.2.0",
      "_model_name": "LayoutModel",
      "_view_count": null,
      "_view_module": "@jupyter-widgets/base",
      "_view_module_version": "1.2.0",
      "_view_name": "LayoutView",
      "align_content": null,
      "align_items": null,
      "align_self": null,
      "border": null,
      "bottom": null,
      "display": null,
      "flex": null,
      "flex_flow": null,
      "grid_area": null,
      "grid_auto_columns": null,
      "grid_auto_flow": null,
      "grid_auto_rows": null,
      "grid_column": null,
      "grid_gap": null,
      "grid_row": null,
      "grid_template_areas": null,
      "grid_template_columns": null,
      "grid_template_rows": null,
      "height": null,
      "justify_content": null,
      "justify_items": null,
      "left": null,
      "margin": null,
      "max_height": null,
      "max_width": null,
      "min_height": null,
      "min_width": null,
      "object_fit": null,
      "object_position": null,
      "order": null,
      "overflow": null,
      "overflow_x": null,
      "overflow_y": null,
      "padding": null,
      "right": null,
      "top": null,
      "visibility": null,
      "width": null
     }
    },
    "d5d72ef60a9e4f94b01c354fd01a16d9": {
     "model_module": "@jupyter-widgets/controls",
     "model_name": "ProgressStyleModel",
     "state": {
      "_model_module": "@jupyter-widgets/controls",
      "_model_module_version": "1.5.0",
      "_model_name": "ProgressStyleModel",
      "_view_count": null,
      "_view_module": "@jupyter-widgets/base",
      "_view_module_version": "1.2.0",
      "_view_name": "StyleView",
      "bar_color": null,
      "description_width": ""
     }
    },
    "dab6d5d56b02421898c88c3a7796f121": {
     "model_module": "@jupyter-widgets/base",
     "model_name": "LayoutModel",
     "state": {
      "_model_module": "@jupyter-widgets/base",
      "_model_module_version": "1.2.0",
      "_model_name": "LayoutModel",
      "_view_count": null,
      "_view_module": "@jupyter-widgets/base",
      "_view_module_version": "1.2.0",
      "_view_name": "LayoutView",
      "align_content": null,
      "align_items": null,
      "align_self": null,
      "border": null,
      "bottom": null,
      "display": null,
      "flex": null,
      "flex_flow": null,
      "grid_area": null,
      "grid_auto_columns": null,
      "grid_auto_flow": null,
      "grid_auto_rows": null,
      "grid_column": null,
      "grid_gap": null,
      "grid_row": null,
      "grid_template_areas": null,
      "grid_template_columns": null,
      "grid_template_rows": null,
      "height": null,
      "justify_content": null,
      "justify_items": null,
      "left": null,
      "margin": null,
      "max_height": null,
      "max_width": null,
      "min_height": null,
      "min_width": null,
      "object_fit": null,
      "object_position": null,
      "order": null,
      "overflow": null,
      "overflow_x": null,
      "overflow_y": null,
      "padding": null,
      "right": null,
      "top": null,
      "visibility": null,
      "width": null
     }
    },
    "db19e16568884254996f5a4f49086496": {
     "model_module": "@jupyter-widgets/base",
     "model_name": "LayoutModel",
     "state": {
      "_model_module": "@jupyter-widgets/base",
      "_model_module_version": "1.2.0",
      "_model_name": "LayoutModel",
      "_view_count": null,
      "_view_module": "@jupyter-widgets/base",
      "_view_module_version": "1.2.0",
      "_view_name": "LayoutView",
      "align_content": null,
      "align_items": null,
      "align_self": null,
      "border": null,
      "bottom": null,
      "display": null,
      "flex": null,
      "flex_flow": null,
      "grid_area": null,
      "grid_auto_columns": null,
      "grid_auto_flow": null,
      "grid_auto_rows": null,
      "grid_column": null,
      "grid_gap": null,
      "grid_row": null,
      "grid_template_areas": null,
      "grid_template_columns": null,
      "grid_template_rows": null,
      "height": null,
      "justify_content": null,
      "justify_items": null,
      "left": null,
      "margin": null,
      "max_height": null,
      "max_width": null,
      "min_height": null,
      "min_width": null,
      "object_fit": null,
      "object_position": null,
      "order": null,
      "overflow": null,
      "overflow_x": null,
      "overflow_y": null,
      "padding": null,
      "right": null,
      "top": null,
      "visibility": null,
      "width": null
     }
    },
    "e957f5f8ccf64f8382d8569cfde5cd42": {
     "model_module": "@jupyter-widgets/base",
     "model_name": "LayoutModel",
     "state": {
      "_model_module": "@jupyter-widgets/base",
      "_model_module_version": "1.2.0",
      "_model_name": "LayoutModel",
      "_view_count": null,
      "_view_module": "@jupyter-widgets/base",
      "_view_module_version": "1.2.0",
      "_view_name": "LayoutView",
      "align_content": null,
      "align_items": null,
      "align_self": null,
      "border": null,
      "bottom": null,
      "display": null,
      "flex": null,
      "flex_flow": null,
      "grid_area": null,
      "grid_auto_columns": null,
      "grid_auto_flow": null,
      "grid_auto_rows": null,
      "grid_column": null,
      "grid_gap": null,
      "grid_row": null,
      "grid_template_areas": null,
      "grid_template_columns": null,
      "grid_template_rows": null,
      "height": null,
      "justify_content": null,
      "justify_items": null,
      "left": null,
      "margin": null,
      "max_height": null,
      "max_width": null,
      "min_height": null,
      "min_width": null,
      "object_fit": null,
      "object_position": null,
      "order": null,
      "overflow": null,
      "overflow_x": null,
      "overflow_y": null,
      "padding": null,
      "right": null,
      "top": null,
      "visibility": null,
      "width": null
     }
    },
    "ebe38d8c528a45e8a89eb67b7ffc717d": {
     "model_module": "@jupyter-widgets/controls",
     "model_name": "FloatProgressModel",
     "state": {
      "_dom_classes": [],
      "_model_module": "@jupyter-widgets/controls",
      "_model_module_version": "1.5.0",
      "_model_name": "FloatProgressModel",
      "_view_count": null,
      "_view_module": "@jupyter-widgets/controls",
      "_view_module_version": "1.5.0",
      "_view_name": "ProgressView",
      "bar_style": "success",
      "description": "",
      "description_tooltip": null,
      "layout": "IPY_MODEL_d2ade4ba16604b95a9efc5d30aaf1c51",
      "max": 1,
      "min": 0,
      "orientation": "horizontal",
      "style": "IPY_MODEL_cecf95b39cef43fbae079849db6b14c3",
      "value": 1
     }
    },
    "ee9a8bab2d1c472d8fa48e5f244cb981": {
     "model_module": "@jupyter-widgets/controls",
     "model_name": "HTMLModel",
     "state": {
      "_dom_classes": [],
      "_model_module": "@jupyter-widgets/controls",
      "_model_module_version": "1.5.0",
      "_model_name": "HTMLModel",
      "_view_count": null,
      "_view_module": "@jupyter-widgets/controls",
      "_view_module_version": "1.5.0",
      "_view_name": "HTMLView",
      "description": "",
      "description_tooltip": null,
      "layout": "IPY_MODEL_db19e16568884254996f5a4f49086496",
      "placeholder": "​",
      "style": "IPY_MODEL_fe258eeb80794b32bd02dc0ab0c5407c",
      "value": " 1/1 [00:06&lt;00:00,  6.65s/it]"
     }
    },
    "fe258eeb80794b32bd02dc0ab0c5407c": {
     "model_module": "@jupyter-widgets/controls",
     "model_name": "DescriptionStyleModel",
     "state": {
      "_model_module": "@jupyter-widgets/controls",
      "_model_module_version": "1.5.0",
      "_model_name": "DescriptionStyleModel",
      "_view_count": null,
      "_view_module": "@jupyter-widgets/base",
      "_view_module_version": "1.2.0",
      "_view_name": "StyleView",
      "description_width": ""
     }
    }
   }
  }
 },
 "nbformat": 4,
 "nbformat_minor": 2
}
